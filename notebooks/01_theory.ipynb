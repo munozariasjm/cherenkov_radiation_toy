{
 "cells": [
  {
   "attachments": {},
   "cell_type": "markdown",
   "metadata": {},
   "source": [
    "<center>\n",
    "<h1>Cherenkov Radiation</h1>\n",
    "</center>"
   ]
  },
  {
   "attachments": {},
   "cell_type": "markdown",
   "metadata": {},
   "source": [
    "## Introduction\n",
    "\n",
    "Cherenkov Radiation is electromagnetic radiation emitted when a charged particle passes through a dielectric medium at a speed greater than the phase velocity of light in that medium. The charged particles polarize the molecules of that medium, creating a shockwave of electromagnetic radiation.\n",
    "\n",
    "The characteristic blue glow of underwater nuclear reactors is due to Cherenkov radiation. It is named after Pavel Alekseyevich Cherenkov, a Soviet scientist who was awarded the Nobel Prize in Physics in 1958.\n"
   ]
  },
  {
   "attachments": {},
   "cell_type": "markdown",
   "metadata": {},
   "source": [
    "\n",
    "## Theory\n",
    "\n",
    "The phenomenon of Cherenkov radiation results from the interaction between a charged particle and the atoms of the medium through which the particle is moving. \n",
    "\n",
    "Consider a charged particle moving through a medium at a velocity $\\vec{v}$. The particle will polarize the atoms of the medium, and these polarized atoms will then return to their ground state, emitting radiation in the process.\n",
    "\n",
    "![image.png](https://encrypted-tbn0.gstatic.com/images?q=tbn:ANd9GcQ3_q9gqqzcPKvqd8QhgZuRUvg-1DMaou33AhOtol7sfTAVQvpLDg1bz3UPoddY1TVvPw&usqp=CAU)\n"
   ]
  },
  {
   "attachments": {},
   "cell_type": "markdown",
   "metadata": {},
   "source": [
    "### The Cherenkov Condition\n",
    "\n",
    "For Cherenkov radiation to occur, the particle must be moving faster than light does in the same medium. In other words, the speed of the particle $v$ must be greater than the speed of light in the medium $c/n$, where $c$ is the speed of light in vacuum and $n$ is the refractive index of the medium. This can be represented as:\n",
    "\n",
    "$$ v > \\frac{c}{n} $$"
   ]
  },
  {
   "attachments": {},
   "cell_type": "markdown",
   "metadata": {},
   "source": [
    "### The Cherenkov Angle\n",
    "\n",
    "The radiation emitted by the polarized atoms forms a cone around the path of the particle. The half-angle of this cone $\\theta_c$, called the Cherenkov angle, is related to the speed of the particle and the speed of light in the medium:\n",
    "\n",
    "$$ \\cos \\theta_c = \\frac{1}{n \\beta} $$\n",
    "\n",
    "where $\\beta = v/c$ is the velocity of the particle relative to the speed of light in vacuum."
   ]
  },
  {
   "attachments": {},
   "cell_type": "markdown",
   "metadata": {},
   "source": [
    "### The Frank-Tamm Formula\n",
    "\n",
    "The number of photons emitted per unit path length per unit frequency is given by the Frank-Tamm formula:\n",
    "\n",
    "$$ \\frac{d^2N}{dx d\\omega} = \\frac{e^2}{4\\pi \\epsilon_0 c^2} \\left(1 - \\frac{1}{n^2 \\beta^2}\\right) \\omega $$\n",
    "\n",
    "where $e$ is the charge of the particle, $\\epsilon_0$ is the permittivity of free space, and $\\omega$ is the angular frequency of the photons. This formula tells us that the intensity of Cherenkov radiation is proportional to the frequency of the emitted photons."
   ]
  },
  {
   "attachments": {},
   "cell_type": "markdown",
   "metadata": {},
   "source": [
    "## Derivation of the Frank-Tamm Formula\n",
    "\n",
    "To derive the Frank-Tamm formula, we begin with the Larmor formula for the power radiated by an accelerating charged particle:\n",
    "\n",
    "$$ P = \\frac{2}{3} \\frac{e^2 a^2}{4 \\pi \\epsilon_0 c^3} $$\n",
    "\n",
    "where $a$ is the acceleration of the particle. For a particle moving at constant velocity, the acceleration is zero, and the Larmor formula gives no radiation. However, in a medium, the particle is constantly interacting with the atoms of the medium and thus can be considered to be continually accelerating.\n",
    "\n",
    "Next, we calculate the power per unit solid angle:\n",
    "\n",
    "$$ \\frac{dP}{d\\Omega} = \\frac{e^2 a^2}{16 \\pi^2 \\epsilon_0 c^3} \\left(1 - \\frac{v^2}{c^2} \\sin^2 \\theta \\right) $$\n",
    "\n",
    "where $\\theta$ is the angle between the acceleration and the direction of radiation.\n",
    "\n",
    "The radiation is emitted in a cone around the path of the particle, so the solid angle of the cone is:\n",
    "\n",
    "\n",
    "$$ \\Delta \\Omega = 2\\pi(1 - \\cos \\theta_c) = 2\\pi (1 - \\frac{1}{n\\beta}) $$\n",
    "\n",
    "The power radiated into this solid angle is:\n",
    "\n",
    "$$ P = \\frac{dP}{d\\Omega} \\Delta \\Omega = \\frac{e^2 a^2}{8 \\epsilon_0 c^3} \\left(1 - \\frac{1}{n^2\\beta^2} \\right) $$\n",
    "\n",
    "Now, we note that the energy of a photon is $E = \\hbar \\omega$, where $\\hbar$ is the reduced Planck's constant. The number of photons emitted per unit time is thus:\n",
    "\n",
    "$$ N = \\frac{P}{E} = \\frac{e^2 a^2}{8 \\epsilon_0 c^3 \\hbar \\omega} \\left(1 - \\frac{1}{n^2\\beta^2} \\right) $$\n",
    "\n",
    "Finally, we consider that the particle is moving at velocity $v$, so the number of photons emitted per unit path length is:\n",
    "\n",
    "$$ \\frac{dN}{dx} = \\frac{N}{v} = \\frac{e^2 a^2}{8 \\epsilon_0 c^4 \\hbar \\omega} \\left(1 - \\frac{1}{n^2\\beta^2} \\right) $$"
   ]
  },
  {
   "attachments": {},
   "cell_type": "markdown",
   "metadata": {},
   "source": [
    "\n",
    "## Energy Spectrum\n",
    "\n",
    "The energy spectrum of Cherenkov radiation is continuous and its intensity increases with frequency, which is a result of the Frank-Tamm formula. The higher the frequency (or, equivalently, the shorter the wavelength), the more intense the Cherenkov radiation.\n"
   ]
  },
  {
   "attachments": {},
   "cell_type": "markdown",
   "metadata": {},
   "source": [
    "## Applications\n",
    "\n",
    "Cherenkov radiation has several practical applications:\n",
    "\n",
    "1. **Particle detectors**: Cherenkov detectors are used to determine the velocity of charged particles. By measuring the Cherenkov angle, one can determine the velocity of the particle that produced the Cherenkov radiation.\n",
    "\n",
    "2. **Nuclear reactors**: The blue glow in underwater nuclear reactors is due to Cherenkov radiation. It can be used to confirm the presence of a critical reaction.\n",
    "\n",
    "3. **Medical physics**: Cherenkov radiation is used in medical physics for radiation therapy dosimetry.\n",
    "\n"
   ]
  },
  {
   "attachments": {},
   "cell_type": "markdown",
   "metadata": {},
   "source": [
    "## Conclusion\n",
    "\n",
    "Cherenkov radiation is a fascinating phenomenon that combines aspects of electrodynamics and quantum mechanics. It provides a powerful tool for detecting and measuring high-energy particles, and has important applications in various fields of physics."
   ]
  }
 ],
 "metadata": {
  "kernelspec": {
   "display_name": "base",
   "language": "python",
   "name": "python3"
  },
  "language_info": {
   "codemirror_mode": {
    "name": "ipython",
    "version": 3
   },
   "file_extension": ".py",
   "mimetype": "text/x-python",
   "name": "python",
   "nbconvert_exporter": "python",
   "pygments_lexer": "ipython3",
   "version": "3.9.13"
  },
  "orig_nbformat": 4
 },
 "nbformat": 4,
 "nbformat_minor": 2
}
